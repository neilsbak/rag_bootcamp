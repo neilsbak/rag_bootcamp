{
 "cells": [
  {
   "cell_type": "markdown",
   "id": "3d86f6cd",
   "metadata": {},
   "source": [
    "# Cohere Document Search with LlamaIndex"
   ]
  },
  {
   "cell_type": "markdown",
   "id": "4168e6b6",
   "metadata": {},
   "source": [
    "This example shows how to use the Python [LlamaIndex](https://docs.llamaindex.ai/en/stable/) library to run a text-generation request against [Cohere's](https://cohere.com/) API, then augment that request using the text stored in a collection of local PDF documents.\n",
    "\n",
    "**Requirements:**\n",
    "- You will need an access key to Cohere's API key, which you can sign up for at (https://dashboard.cohere.com/welcome/login). A free trial account will suffice, but will be limited to a small number of requests.\n",
    "- After obtaining this key, store it in plain text in your home in directory in the `~/.cohere.key` file.\n",
    "- (Optional) Upload some pdf files into the `source_documents` subfolder under this notebook. We have already provided some sample pdfs, but feel free to replace these with your own."
   ]
  },
  {
   "cell_type": "markdown",
   "id": "22e4da1f",
   "metadata": {},
   "source": [
    "## Set up the RAG workflow environment"
   ]
  },
  {
   "cell_type": "code",
   "execution_count": 7,
   "id": "2f637730",
   "metadata": {},
   "outputs": [],
   "source": [
    "from getpass import getpass\n",
    "import os\n",
    "from pathlib import Path\n",
    "\n",
    "from llama_index.core import ServiceContext, SimpleDirectoryReader, VectorStoreIndex\n",
    "from llama_index.embeddings.cohere import CohereEmbedding\n",
    "from llama_index.llms.cohere import Cohere\n",
    "from llama_index.postprocessor.cohere_rerank import CohereRerank"
   ]
  },
  {
   "cell_type": "markdown",
   "id": "12ecf9ac",
   "metadata": {},
   "source": [
    "Set up some helper functions:"
   ]
  },
  {
   "cell_type": "code",
   "execution_count": 8,
   "id": "dd4e2417",
   "metadata": {},
   "outputs": [],
   "source": [
    "def pretty_print_docs(docs):\n",
    "    print(\n",
    "        f\"\\n{'-' * 100}\\n\".join(\n",
    "            [f\"Document {i+1}:\\n\\n\" + d.page_content for i, d in enumerate(docs)]\n",
    "        )\n",
    "    )"
   ]
  },
  {
   "cell_type": "markdown",
   "id": "d9edd103",
   "metadata": {},
   "source": [
    "Make sure other necessary items are in place:"
   ]
  },
  {
   "cell_type": "code",
   "execution_count": 9,
   "id": "74b61e4f",
   "metadata": {},
   "outputs": [],
   "source": [
    "try:\n",
    "    os.environ[\"COHERE_API_KEY\"] = open(Path.home() / \".cohere.key\", \"r\").read().strip()\n",
    "    os.environ[\"CO_API_KEY\"] = open(Path.home() / \".cohere.key\", \"r\").read().strip()\n",
    "except Exception:\n",
    "    print(f\"ERROR: You must have a Cohere API key available in your home directory at ~/.cohere.key\")\n",
    "\n",
    "# Look for the source-materials folder and make sure there is at least 1 pdf file here\n",
    "contains_pdf = False\n",
    "directory_path = \"./source_documents\"\n",
    "if not os.path.exists(directory_path):\n",
    "    print(f\"ERROR: The {directory_path} subfolder must exist under this notebook\")\n",
    "for filename in os.listdir(directory_path):\n",
    "    contains_pdf = True if \".pdf\" in filename else contains_pdf\n",
    "if not contains_pdf:\n",
    "    print(f\"ERROR: The {directory_path} subfolder must contain at least one .pdf file\")"
   ]
  },
  {
   "cell_type": "markdown",
   "id": "358a22c5",
   "metadata": {},
   "source": [
    "## Cohere LLM"
   ]
  },
  {
   "cell_type": "code",
   "execution_count": 10,
   "id": "00061d61",
   "metadata": {},
   "outputs": [],
   "source": [
    "llm = Cohere(api_key=os.environ[\"COHERE_API_KEY\"])"
   ]
  },
  {
   "cell_type": "markdown",
   "id": "e6e1c200",
   "metadata": {},
   "source": [
    "Without additional information, Cohere is unable to answer the question correctly. **Vector in fact awarded 109 AI scholarships in 2022.** Fortunately, we do have that information available in Vector's 2021-22 Annual Report, which is available in the `source_documents` folder. Let's see how we can use RAG to augment our question with a document search and get the correct answer."
   ]
  },
  {
   "cell_type": "markdown",
   "id": "0255ea68",
   "metadata": {},
   "source": [
    "## Ingestion: Load and store the documents from source-materials"
   ]
  },
  {
   "cell_type": "markdown",
   "id": "ba9d0304",
   "metadata": {},
   "source": [
    "Start by reading in all the PDF files from `source_documents`."
   ]
  },
  {
   "cell_type": "code",
   "execution_count": 11,
   "id": "5710c72d",
   "metadata": {},
   "outputs": [
    {
     "name": "stdout",
     "output_type": "stream",
     "text": [
      "Number of source materials: 12\n",
      "\n"
     ]
    }
   ],
   "source": [
    "# Load the pdfs\n",
    "pdf_folder_path = \"./source_documents\"\n",
    "documents = documents = SimpleDirectoryReader(input_files=[f\"{pdf_folder_path}/Blackrock_MF_Summary_Prospectus_Single_BROAX-BROCX-BROIX-BGORX.pdf\"]).load_data()\n",
    "print(f\"Number of source materials: {len(documents)}\\n\")"
   ]
  },
  {
   "cell_type": "markdown",
   "id": "b4a7545e",
   "metadata": {},
   "source": [
    "## Define an embeddings model"
   ]
  },
  {
   "cell_type": "markdown",
   "id": "01bc16fe",
   "metadata": {},
   "source": [
    "This embeddings model will convert the textual data from our PDF files into vector embeddings. These vector embeddings will later enable us to quickly find the chunk of text that most closely corresponds to our original query."
   ]
  },
  {
   "cell_type": "code",
   "execution_count": 12,
   "id": "1048c42a",
   "metadata": {},
   "outputs": [
    {
     "name": "stderr",
     "output_type": "stream",
     "text": [
      "/var/folders/wc/cfgm_qv96_z8s4pnr8frqh6h0000gn/T/ipykernel_56973/609469536.py:5: DeprecationWarning: Call to deprecated class method from_defaults. (ServiceContext is deprecated, please use `llama_index.settings.Settings` instead.) -- Deprecated since version 0.10.0.\n",
      "  service_context = ServiceContext.from_defaults(\n"
     ]
    }
   ],
   "source": [
    "embed_model = CohereEmbedding(\n",
    "    model_name=\"embed-english-v3.0\",\n",
    "    input_type=\"search_query\"\n",
    ")\n",
    "service_context = ServiceContext.from_defaults(\n",
    "    embed_model=embed_model,\n",
    "    llm=llm,\n",
    "    chunk_size=200\n",
    ")"
   ]
  },
  {
   "cell_type": "markdown",
   "id": "8fe1690e",
   "metadata": {},
   "source": [
    "## Storage: Store the documents in a vector database"
   ]
  },
  {
   "cell_type": "code",
   "execution_count": 13,
   "id": "075ede5c",
   "metadata": {},
   "outputs": [
    {
     "name": "stderr",
     "output_type": "stream",
     "text": [
      "/Users/nbakhle/python/rag_bootcamp/TD_team_B/venv/lib/python3.11/site-packages/tqdm/auto.py:21: TqdmWarning: IProgress not found. Please update jupyter and ipywidgets. See https://ipywidgets.readthedocs.io/en/stable/user_install.html\n",
      "  from .autonotebook import tqdm as notebook_tqdm\n",
      "Parsing nodes:   0%|          | 0/12 [00:00<?, ?it/s]"
     ]
    },
    {
     "name": "stderr",
     "output_type": "stream",
     "text": [
      "Parsing nodes: 100%|██████████| 12/12 [00:00<00:00, 433.76it/s]\n",
      "Generating embeddings: 100%|██████████| 197/197 [00:05<00:00, 35.72it/s]\n"
     ]
    }
   ],
   "source": [
    "index = VectorStoreIndex.from_documents(documents, service_context=service_context, show_progress=True)"
   ]
  },
  {
   "cell_type": "markdown",
   "id": "3008507b",
   "metadata": {},
   "source": [
    "## Retrieval: Now do a search to retrieve the chunk of document text that most closely matches our original query"
   ]
  },
  {
   "cell_type": "markdown",
   "id": "metallic-douglas",
   "metadata": {},
   "source": [
    "## Setup retriever and reranker"
   ]
  },
  {
   "cell_type": "code",
   "execution_count": 20,
   "id": "neural-lewis",
   "metadata": {},
   "outputs": [],
   "source": [
    "\n",
    "search_query_retriever = index.as_retriever(service_context=service_context)\n",
    "reranker = CohereRerank()"
   ]
  },
  {
   "cell_type": "markdown",
   "id": "7d420d81",
   "metadata": {},
   "source": [
    "## Query Response pipeline"
   ]
  },
  {
   "cell_type": "code",
   "execution_count": 21,
   "metadata": {},
   "outputs": [],
   "source": [
    "def get_response_to_query(query):\n",
    "    # search_query_retrieved_nodes = search_query_retriever.retrieve(query)\n",
    "    # print(f\"Search query retriever found {len(search_query_retrieved_nodes)} results\")\n",
    "    # print(f\"First result example:\\n{search_query_retrieved_nodes[0]}\\n\")\n",
    "    query_engine = index.as_query_engine(\n",
    "        node_postprocessors = [reranker]\n",
    "    )\n",
    "    result = query_engine.query(query)\n",
    "    return result"
   ]
  },
  {
   "cell_type": "markdown",
   "id": "29366790",
   "metadata": {},
   "source": [
    "## Get the Fund Name"
   ]
  },
  {
   "cell_type": "code",
   "execution_count": 24,
   "id": "bc1d785d",
   "metadata": {},
   "outputs": [
    {
     "name": "stdout",
     "output_type": "stream",
     "text": [
      "Fund Name: BlackRock Advantage International Fund\n"
     ]
    }
   ],
   "source": [
    "fund_name = get_response_to_query(\"What is the name of the fund?  The name of the fund is: \")\n",
    "print(f\"Fund Name: {fund_name}\")"
   ]
  },
  {
   "cell_type": "markdown",
   "id": "dd12bf2e",
   "metadata": {},
   "source": [
    "## Get responses to key queries"
   ]
  },
  {
   "cell_type": "code",
   "execution_count": 32,
   "id": "960dd030",
   "metadata": {},
   "outputs": [],
   "source": [
    "queries = [\n",
    "    \"What is the investment strategy of the fund?\",\n",
    "    \"What are the investment objectives of the fund?\",\n",
    "    \"Who are the key people in the management team?\",\n",
    "    \"What is the investment philosphy of the fund regarding ESG (Environmental, Social, and Governance)?\",\n",
    "    \"What industries, markets, or types of securities is the fund want exposure to?\",\n",
    "    \"What investment tools (derivatives, leverage, etc) does does the fund use to achieve their investment goals?\"\n",
    "]"
   ]
  },
  {
   "cell_type": "code",
   "execution_count": 33,
   "id": "competent-utility",
   "metadata": {},
   "outputs": [],
   "source": [
    "responses = []\n",
    "\n",
    "for query in queries:\n",
    "    result = get_response_to_query(query)\n",
    "    responses.append(result)\n",
    "\n",
    "response_answer_pairs = zip(queries, responses)\n"
   ]
  },
  {
   "cell_type": "code",
   "execution_count": 34,
   "id": "competitive-draft",
   "metadata": {},
   "outputs": [
    {
     "name": "stdout",
     "output_type": "stream",
     "text": [
      "What is the investment strategy of the fund?\n",
      "The fund aims to invest at least 80% of its assets in non-US equity securities and equity-like instruments of companies that are part of the MSCI EAFE Index and derivatives tied to the index. These assets include a variety of common stocks, preferred stocks, and convertible securities. The MSCI EAFE index is a capitalization-weighted index inclusive of a broad range of industries chosen for market size, liquidity, and industry group representation.\n",
      "\n",
      "What are the investment objectives of the fund?\n",
      "The Fund's investment objective is to provide long-term capital appreciation. This objective is to serve the purpose of providing a reasonable return on your investment while also considering safety and liquidity.\n",
      "\n",
      "Who are the key people in the management team?\n",
      "Raffaele Savi, Kevin Franklin, and Richard Mathieson have served as portfolio managers for the fund for 2 years, and they have the titles Senior Managing Director and Managing Director at BlackRock, Inc. BlackRock Advisors, LLC is the investment manager for the fund.\n",
      "\n",
      "What is the investment philosphy of the fund regarding ESG (Environmental, Social, and Governance)?\n",
      "The fund's investment philosophy regarding ESG (Environmental, Social, and Governance) factors is to incorporate quantitative analysis and proprietary return forecast models designed to identify aspects of mispricing across stocks. They achieve this by making allocations in over- and under-weighted particular equity securities while seeking to control incremental risk. This is done while constructing and rebalancing the portfolio through their model-based optimization process by integrating their investment insights.\n",
      "\n",
      "What industries, markets, or types of securities is the fund want exposure to?\n",
      "The fund primarily invests in equity securities and equity-like instruments of companies that are components of the MSCI EAFE Index, a capitalization-weighted index from a broad range of industries chosen for market size, liquidity, and industry group representation. The fund may also invest in derivatives tied to this index, and may invest in securities of non-U.S. issuers on a hedged or unhedged basis. The fund may invest in common stock, preferred stock, and convertible securities, and may occasionally invest in companies through initial public offerings (IPOs).\n",
      "\n",
      "What investment tools (derivatives, leverage, etc) does does the fund use to achieve their investment goals?\n",
      "The fund notes that they use derivatives such as options, futures, swaps, and forward contracts to increase return and protect the value of its assets through various avenues. They also incorporate quantitative analysis and proprietary return forecast models to achieve investment goals.\n",
      "\n",
      "\n"
     ]
    }
   ],
   "source": [
    "response_answer_text = \"\"\n",
    "for (query, response) in response_answer_pairs:\n",
    "    response_answer_text = f\"{response_answer_text}{query}\\n{response}\\n\\n\"\n",
    "\n",
    "print(response_answer_text)"
   ]
  },
  {
   "cell_type": "markdown",
   "id": "2c651907",
   "metadata": {},
   "source": [
    "## Chat Engine"
   ]
  },
  {
   "cell_type": "code",
   "execution_count": 38,
   "id": "e3c128ce",
   "metadata": {},
   "outputs": [],
   "source": [
    "from llama_index.core.memory import ChatMemoryBuffer\n",
    "\n",
    "memory = ChatMemoryBuffer.from_defaults(token_limit=1500)\n",
    "\n",
    "chat_engine = index.as_chat_engine(\n",
    "    chat_mode=\"context\",\n",
    "    memory=memory,\n",
    "    system_prompt=(\n",
    "        f\"You are an expert Mutual Fund analyst for a bank, and you privide answers to your boss about whether the bank should purchase the fund named {fund_name}.\"\n",
    "        f\"  You have answered these key questions about the fund:\\n {response_answer_text}\"\n",
    "    ),\n",
    ")"
   ]
  },
  {
   "cell_type": "code",
   "execution_count": 39,
   "id": "d77dc1cd",
   "metadata": {},
   "outputs": [
    {
     "name": "stdout",
     "output_type": "stream",
     "text": [
      "The level of risk for the fund is determined by the fund's investment objectives and strategies, along with the expertise and skill of the fund's portfolio managers and analysts. These professionals make investment decisions on behalf of the fund's shareholders with the goal of achieving the fund's investment objectives. \n",
      "\n",
      "The fund invests primarily in equity securities and equity-like instruments of companies that are part of the MSCI EAFE Index and derivatives tied to the index. It also invests in a variety of common stocks, preferred stocks, and convertible securities. These investment practices are subject to market risk, which is the possibility that the value of the underlying securities of the fund may decline due to changes in general market conditions, economic trends, or events not specifically related to the issuers of the securities. These are factors that can impact a particular issuer, exchange, country, region, market, industry, group of industries, sector, or asset class.\n",
      "\n",
      "The fund also incorporates quantitative analysis and proprietary return forecast models designed to identify aspects of mispricing across stocks. They make allocations in over- and under-weighted equity securities while seeking to control incremental risk by constructing and rebalancing the portfolio through their model-based optimization process while integrating their investment insights. The use of derivatives, leverage, and other investment tools within this process exaceberates potential risks as well. \n",
      "\n",
      "It is important to note that investing in mutual funds carries inherent risks, and the level of risk can vary widely across different funds. It is essential for prospective investors to carefully review the fund's prospectus, offering materials, and financial reports to understand the specific risks associated with the fund's investment objectives and strategies.\n"
     ]
    }
   ],
   "source": [
    "chat_response = chat_engine.chat(\"What is the level of risk for the fund?\")\n",
    "print(chat_response)"
   ]
  },
  {
   "cell_type": "code",
   "execution_count": 40,
   "id": "462d115c",
   "metadata": {},
   "outputs": [
    {
     "name": "stdout",
     "output_type": "stream",
     "text": [
      "Risk is a subjective assessment, and it is challenging to make precise comparisons between different mutual funds. Each fund has a unique investment strategy and different types of risk exposures. The risk profile of the BlackRock Advantage International Fund encompasses the risks associated with its investment objectives and strategies, as well as the expertise and skill of its portfolio managers and analysts.\n",
      "\n",
      "The fund documents disclose that it invests in equity securities and equity-like instruments of companies that are components of the MSCI EAFE Index and derivatives tied to the index. The fund also invests in a variety of common stocks, preferred stocks, and convertible securities. These practices are subject to market risk, which is the possibility that the value of the underlying securities of the fund may decline due to changes in general market conditions, economic trends, or events not specifically related to the issuers of the securities. \n",
      "\n",
      "The fund utilizes derivatives, leverage, and other investment tools to achieve its investment objectives and includes a strategy involving the integration of ESG (Environmental, Social, and Governance) factors. These practices introduce another component of risk and may increase the fund's exposure to certain risks.\n",
      "\n",
      "When comparing the risk of the BlackRock Advantage International Fund with that of other funds, several factors need consideration. These include the fund's strategic allocation, specific risk exposures, use of derivatives and leverage, and the experience and investment style of the portfolio management team. All of these aspects combine to produce the fund's risk profile, and it is imperative for potential investors to comprehend those risks and make appropriate comparisons according to their risk tolerance and investment objectives.\n"
     ]
    }
   ],
   "source": [
    "chat_response = chat_engine.chat(\"is it higher or lower than most funds?\")\n",
    "print(chat_response)"
   ]
  }
 ],
 "metadata": {
  "kernelspec": {
   "display_name": "venv",
   "language": "python",
   "name": "python3"
  },
  "language_info": {
   "codemirror_mode": {
    "name": "ipython",
    "version": 3
   },
   "file_extension": ".py",
   "mimetype": "text/x-python",
   "name": "python",
   "nbconvert_exporter": "python",
   "pygments_lexer": "ipython3",
   "version": "3.11.7"
  }
 },
 "nbformat": 4,
 "nbformat_minor": 5
}
