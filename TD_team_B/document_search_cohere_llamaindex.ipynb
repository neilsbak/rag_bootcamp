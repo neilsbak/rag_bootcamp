{
 "cells": [
  {
   "cell_type": "markdown",
   "id": "3d86f6cd",
   "metadata": {},
   "source": [
    "# Cohere Document Search with LlamaIndex"
   ]
  },
  {
   "cell_type": "markdown",
   "id": "4168e6b6",
   "metadata": {},
   "source": [
    "This example shows how to use the Python [LlamaIndex](https://docs.llamaindex.ai/en/stable/) library to run a text-generation request against [Cohere's](https://cohere.com/) API, then augment that request using the text stored in a collection of local PDF documents.\n",
    "\n",
    "**Requirements:**\n",
    "- You will need an access key to Cohere's API key, which you can sign up for at (https://dashboard.cohere.com/welcome/login). A free trial account will suffice, but will be limited to a small number of requests.\n",
    "- After obtaining this key, store it in plain text in your home in directory in the `~/.cohere.key` file.\n",
    "- (Optional) Upload some pdf files into the `source_documents` subfolder under this notebook. We have already provided some sample pdfs, but feel free to replace these with your own."
   ]
  },
  {
   "cell_type": "markdown",
   "id": "22e4da1f",
   "metadata": {},
   "source": [
    "## Set up the RAG workflow environment"
   ]
  },
  {
   "cell_type": "code",
   "execution_count": 1,
   "id": "2f637730",
   "metadata": {},
   "outputs": [],
   "source": [
    "from getpass import getpass\n",
    "import os\n",
    "from pathlib import Path\n",
    "\n",
    "from llama_index.core import ServiceContext, SimpleDirectoryReader, VectorStoreIndex\n",
    "from llama_index.embeddings.cohere import CohereEmbedding\n",
    "from llama_index.llms.cohere import Cohere\n",
    "from llama_index.postprocessor.cohere_rerank import CohereRerank\n",
    "from llama_index.llms.ollama import Ollama\n",
    "from llama_index.embeddings.ollama import OllamaEmbedding"
   ]
  },
  {
   "cell_type": "markdown",
   "id": "12ecf9ac",
   "metadata": {},
   "source": [
    "Set up some helper functions:"
   ]
  },
  {
   "cell_type": "code",
   "execution_count": 2,
   "id": "dd4e2417",
   "metadata": {},
   "outputs": [],
   "source": [
    "def pretty_print_docs(docs):\n",
    "    print(\n",
    "        f\"\\n{'-' * 100}\\n\".join(\n",
    "            [f\"Document {i+1}:\\n\\n\" + d.page_content for i, d in enumerate(docs)]\n",
    "        )\n",
    "    )"
   ]
  },
  {
   "cell_type": "markdown",
   "id": "d9edd103",
   "metadata": {},
   "source": [
    "Make sure other necessary items are in place:"
   ]
  },
  {
   "cell_type": "code",
   "execution_count": 3,
   "id": "74b61e4f",
   "metadata": {},
   "outputs": [],
   "source": [
    "#try:\n",
    "#    os.environ[\"COHERE_API_KEY\"] = open(Path.home() / \".cohere.key\", \"r\").read().strip()\n",
    "#    os.environ[\"CO_API_KEY\"] = open(Path.home() / \".cohere.key\", \"r\").read().strip()\n",
    "#except Exception:\n",
    "#    print(f\"ERROR: You must have a Cohere API key available in your home directory at ~/.cohere.key\")\n",
    "\n",
    "# Look for the source-materials folder and make sure there is at least 1 pdf file here\n",
    "contains_pdf = False\n",
    "directory_path = \"./source_documents\"\n",
    "if not os.path.exists(directory_path):\n",
    "    print(f\"ERROR: The {directory_path} subfolder must exist under this notebook\")\n",
    "for filename in os.listdir(directory_path):\n",
    "    contains_pdf = True if \".pdf\" in filename else contains_pdf\n",
    "if not contains_pdf:\n",
    "    print(f\"ERROR: The {directory_path} subfolder must contain at least one .pdf file\")"
   ]
  },
  {
   "cell_type": "markdown",
   "id": "358a22c5",
   "metadata": {},
   "source": [
    "## LLM"
   ]
  },
  {
   "cell_type": "code",
   "execution_count": 18,
   "id": "00061d61",
   "metadata": {},
   "outputs": [],
   "source": [
    "#llm = Cohere(api_key=os.environ[\"COHERE_API_KEY\"])\n",
    "llm = Ollama(model=\"llama2\", request_timeout=30.0)"
   ]
  },
  {
   "cell_type": "markdown",
   "id": "e6e1c200",
   "metadata": {},
   "source": [
    "Without additional information, Cohere is unable to answer the question correctly. **Vector in fact awarded 109 AI scholarships in 2022.** Fortunately, we do have that information available in Vector's 2021-22 Annual Report, which is available in the `source_documents` folder. Let's see how we can use RAG to augment our question with a document search and get the correct answer."
   ]
  },
  {
   "cell_type": "markdown",
   "id": "0255ea68",
   "metadata": {},
   "source": [
    "## Ingestion: Load and store the documents from source-materials"
   ]
  },
  {
   "cell_type": "markdown",
   "id": "ba9d0304",
   "metadata": {},
   "source": [
    "Start by reading in all the PDF files from `source_documents`."
   ]
  },
  {
   "cell_type": "code",
   "execution_count": 19,
   "id": "5710c72d",
   "metadata": {},
   "outputs": [
    {
     "name": "stdout",
     "output_type": "stream",
     "text": [
      "Number of source materials: 116\n",
      "\n"
     ]
    }
   ],
   "source": [
    "# Load the pdfs\n",
    "pdf_folder_path = \"./source_documents\"\n",
    "documents = SimpleDirectoryReader(input_files=[f\"{pdf_folder_path}/Vanguard_ETF_Statutory_Prospectus_Single_VOE.pdf\"]).load_data()\n",
    "print(f\"Number of source materials: {len(documents)}\\n\")"
   ]
  },
  {
   "cell_type": "markdown",
   "id": "b4a7545e",
   "metadata": {},
   "source": [
    "## Define an embeddings model"
   ]
  },
  {
   "cell_type": "markdown",
   "id": "01bc16fe",
   "metadata": {},
   "source": [
    "This embeddings model will convert the textual data from our PDF files into vector embeddings. These vector embeddings will later enable us to quickly find the chunk of text that most closely corresponds to our original query."
   ]
  },
  {
   "cell_type": "code",
   "execution_count": 31,
   "id": "1048c42a",
   "metadata": {},
   "outputs": [
    {
     "name": "stderr",
     "output_type": "stream",
     "text": [
      "/var/folders/wc/cfgm_qv96_z8s4pnr8frqh6h0000gn/T/ipykernel_15471/2067548003.py:12: DeprecationWarning: Call to deprecated class method from_defaults. (ServiceContext is deprecated, please use `llama_index.settings.Settings` instead.) -- Deprecated since version 0.10.0.\n",
      "  service_context = ServiceContext.from_defaults(\n"
     ]
    }
   ],
   "source": [
    "#embed_model = CohereEmbedding(\n",
    "#    model_name=\"embed-english-v3.0\",\n",
    "#    input_type=\"search_query\"\n",
    "#)\n",
    "\n",
    "embed_model = OllamaEmbedding(\n",
    "    model_name=\"nomic-embed-text\",\n",
    "    base_url=\"http://localhost:11434\",\n",
    "    ollama_additional_kwargs={\"mirostat\": 0},\n",
    ")\n",
    "\n",
    "service_context = ServiceContext.from_defaults(\n",
    "    embed_model=embed_model,\n",
    "    llm=llm,\n",
    "    chunk_size=200\n",
    ")"
   ]
  },
  {
   "cell_type": "markdown",
   "id": "8fe1690e",
   "metadata": {},
   "source": [
    "## Storage: Store the documents in a vector database"
   ]
  },
  {
   "cell_type": "code",
   "execution_count": 29,
   "id": "075ede5c",
   "metadata": {},
   "outputs": [
    {
     "name": "stderr",
     "output_type": "stream",
     "text": [
      "Parsing nodes: 100%|██████████| 1/1 [00:00<00:00, 140.21it/s]\n",
      "Parsing nodes: 100%|██████████| 1/1 [00:00<00:00, 553.12it/s]\n",
      "Parsing nodes: 100%|██████████| 1/1 [00:00<00:00, 424.61it/s]\n",
      "Parsing nodes: 100%|██████████| 1/1 [00:00<00:00, 612.40it/s]\n",
      "Parsing nodes: 100%|██████████| 1/1 [00:00<00:00, 607.61it/s]\n",
      "Parsing nodes: 100%|██████████| 1/1 [00:00<00:00, 1221.05it/s]\n",
      "Parsing nodes: 100%|██████████| 1/1 [00:00<00:00, 953.03it/s]\n",
      "Parsing nodes: 100%|██████████| 1/1 [00:00<00:00, 436.27it/s]\n",
      "Parsing nodes: 100%|██████████| 1/1 [00:00<00:00, 426.99it/s]\n",
      "Parsing nodes: 100%|██████████| 1/1 [00:00<00:00, 255.42it/s]\n",
      "Parsing nodes: 100%|██████████| 1/1 [00:00<00:00, 502.31it/s]\n",
      "Parsing nodes: 100%|██████████| 1/1 [00:00<00:00, 1340.46it/s]\n",
      "Parsing nodes: 100%|██████████| 1/1 [00:00<00:00, 892.98it/s]\n",
      "Parsing nodes: 100%|██████████| 1/1 [00:00<00:00, 471.64it/s]\n",
      "Parsing nodes: 100%|██████████| 1/1 [00:00<00:00, 432.27it/s]\n",
      "Parsing nodes: 100%|██████████| 1/1 [00:00<00:00, 670.66it/s]\n",
      "Parsing nodes: 100%|██████████| 1/1 [00:00<00:00, 339.21it/s]\n",
      "Parsing nodes: 100%|██████████| 1/1 [00:00<00:00, 666.29it/s]\n",
      "Parsing nodes: 100%|██████████| 1/1 [00:00<00:00, 698.35it/s]\n",
      "Parsing nodes: 100%|██████████| 1/1 [00:00<00:00, 444.88it/s]\n",
      "Parsing nodes: 100%|██████████| 1/1 [00:00<00:00, 438.60it/s]\n",
      "Parsing nodes: 100%|██████████| 1/1 [00:00<00:00, 250.45it/s]\n",
      "Parsing nodes: 100%|██████████| 1/1 [00:00<00:00, 615.00it/s]\n",
      "Parsing nodes: 100%|██████████| 1/1 [00:00<00:00, 1862.48it/s]\n",
      "Parsing nodes: 100%|██████████| 1/1 [00:00<00:00, 926.71it/s]\n",
      "Parsing nodes: 100%|██████████| 1/1 [00:00<00:00, 531.40it/s]\n",
      "Parsing nodes: 100%|██████████| 1/1 [00:00<00:00, 571.43it/s]\n",
      "Parsing nodes: 100%|██████████| 1/1 [00:00<00:00, 246.85it/s]\n",
      "Parsing nodes: 100%|██████████| 1/1 [00:00<00:00, 530.52it/s]\n",
      "Parsing nodes: 100%|██████████| 1/1 [00:00<00:00, 1457.87it/s]\n",
      "Parsing nodes: 100%|██████████| 1/1 [00:00<00:00, 874.00it/s]\n",
      "Parsing nodes: 100%|██████████| 1/1 [00:00<00:00, 468.85it/s]\n",
      "Parsing nodes: 100%|██████████| 1/1 [00:00<00:00, 387.00it/s]\n",
      "Parsing nodes: 100%|██████████| 1/1 [00:00<00:00, 248.95it/s]\n",
      "Parsing nodes: 100%|██████████| 1/1 [00:00<00:00, 481.44it/s]\n",
      "Parsing nodes: 100%|██████████| 1/1 [00:00<00:00, 1661.11it/s]\n",
      "Parsing nodes: 100%|██████████| 1/1 [00:00<00:00, 993.20it/s]\n",
      "Parsing nodes: 100%|██████████| 1/1 [00:00<00:00, 500.75it/s]\n",
      "Parsing nodes: 100%|██████████| 1/1 [00:00<00:00, 441.92it/s]\n",
      "Parsing nodes: 100%|██████████| 1/1 [00:00<00:00, 259.81it/s]\n",
      "Parsing nodes: 100%|██████████| 1/1 [00:00<00:00, 585.88it/s]\n",
      "Parsing nodes: 100%|██████████| 1/1 [00:00<00:00, 1886.78it/s]\n",
      "Parsing nodes: 100%|██████████| 1/1 [00:00<00:00, 686.80it/s]\n",
      "Parsing nodes: 100%|██████████| 1/1 [00:00<00:00, 418.55it/s]\n",
      "Parsing nodes: 100%|██████████| 1/1 [00:00<00:00, 418.89it/s]\n",
      "Parsing nodes: 100%|██████████| 1/1 [00:00<00:00, 276.92it/s]\n",
      "Parsing nodes: 100%|██████████| 1/1 [00:00<00:00, 507.11it/s]\n",
      "Parsing nodes: 100%|██████████| 1/1 [00:00<00:00, 1533.57it/s]\n",
      "Parsing nodes: 100%|██████████| 1/1 [00:00<00:00, 981.12it/s]\n",
      "Parsing nodes: 100%|██████████| 1/1 [00:00<00:00, 447.01it/s]\n",
      "Parsing nodes: 100%|██████████| 1/1 [00:00<00:00, 435.18it/s]\n",
      "Parsing nodes: 100%|██████████| 1/1 [00:00<00:00, 254.20it/s]\n",
      "Parsing nodes: 100%|██████████| 1/1 [00:00<00:00, 429.17it/s]\n",
      "Parsing nodes: 100%|██████████| 1/1 [00:00<00:00, 1300.56it/s]\n",
      "Parsing nodes: 100%|██████████| 1/1 [00:00<00:00, 829.90it/s]\n",
      "Parsing nodes: 100%|██████████| 1/1 [00:00<00:00, 547.99it/s]\n",
      "Parsing nodes: 100%|██████████| 1/1 [00:00<00:00, 373.72it/s]\n",
      "Parsing nodes: 100%|██████████| 1/1 [00:00<00:00, 408.20it/s]\n",
      "Parsing nodes: 100%|██████████| 1/1 [00:00<00:00, 270.48it/s]\n",
      "Parsing nodes: 100%|██████████| 1/1 [00:00<00:00, 567.56it/s]\n",
      "Parsing nodes: 100%|██████████| 1/1 [00:00<00:00, 729.44it/s]\n",
      "Parsing nodes: 100%|██████████| 1/1 [00:00<00:00, 491.19it/s]\n",
      "Parsing nodes: 100%|██████████| 1/1 [00:00<00:00, 359.19it/s]\n",
      "Parsing nodes: 100%|██████████| 1/1 [00:00<00:00, 248.86it/s]\n",
      "Parsing nodes: 100%|██████████| 1/1 [00:00<00:00, 521.10it/s]\n",
      "Parsing nodes: 100%|██████████| 1/1 [00:00<00:00, 1402.78it/s]\n",
      "Parsing nodes: 100%|██████████| 1/1 [00:00<00:00, 1001.98it/s]\n",
      "Parsing nodes: 100%|██████████| 1/1 [00:00<00:00, 493.10it/s]\n",
      "Parsing nodes: 100%|██████████| 1/1 [00:00<00:00, 409.00it/s]\n",
      "Parsing nodes: 100%|██████████| 1/1 [00:00<00:00, 726.41it/s]\n",
      "Parsing nodes: 100%|██████████| 1/1 [00:00<00:00, 349.53it/s]\n",
      "Parsing nodes: 100%|██████████| 1/1 [00:00<00:00, 743.54it/s]\n",
      "Parsing nodes: 100%|██████████| 1/1 [00:00<00:00, 347.70it/s]\n",
      "Parsing nodes: 100%|██████████| 1/1 [00:00<00:00, 471.01it/s]\n",
      "Parsing nodes: 100%|██████████| 1/1 [00:00<00:00, 281.36it/s]\n",
      "Parsing nodes: 100%|██████████| 1/1 [00:00<00:00, 491.42it/s]\n",
      "Parsing nodes: 100%|██████████| 1/1 [00:00<00:00, 496.31it/s]\n",
      "Parsing nodes: 100%|██████████| 1/1 [00:00<00:00, 393.87it/s]\n",
      "Parsing nodes: 100%|██████████| 1/1 [00:00<00:00, 477.77it/s]\n",
      "Parsing nodes: 100%|██████████| 1/1 [00:00<00:00, 448.83it/s]\n",
      "Parsing nodes: 100%|██████████| 1/1 [00:00<00:00, 540.92it/s]\n",
      "Parsing nodes: 100%|██████████| 1/1 [00:00<00:00, 430.72it/s]\n",
      "Parsing nodes: 100%|██████████| 1/1 [00:00<00:00, 375.97it/s]\n",
      "Parsing nodes: 100%|██████████| 1/1 [00:00<00:00, 442.11it/s]\n",
      "Parsing nodes: 100%|██████████| 1/1 [00:00<00:00, 465.98it/s]\n",
      "Parsing nodes: 100%|██████████| 1/1 [00:00<00:00, 421.24it/s]\n",
      "Parsing nodes: 100%|██████████| 1/1 [00:00<00:00, 452.26it/s]\n",
      "Parsing nodes: 100%|██████████| 1/1 [00:00<00:00, 387.61it/s]\n",
      "Parsing nodes: 100%|██████████| 1/1 [00:00<00:00, 577.41it/s]\n",
      "Parsing nodes: 100%|██████████| 1/1 [00:00<00:00, 493.56it/s]\n",
      "Parsing nodes: 100%|██████████| 1/1 [00:00<00:00, 473.99it/s]\n",
      "Parsing nodes: 100%|██████████| 1/1 [00:00<00:00, 457.89it/s]\n",
      "Parsing nodes: 100%|██████████| 1/1 [00:00<00:00, 1730.32it/s]\n",
      "Parsing nodes: 100%|██████████| 1/1 [00:00<00:00, 266.31it/s]\n",
      "Parsing nodes: 100%|██████████| 1/1 [00:00<00:00, 1991.60it/s]\n",
      "Parsing nodes: 100%|██████████| 1/1 [00:00<00:00, 216.21it/s]\n",
      "Parsing nodes: 100%|██████████| 1/1 [00:00<00:00, 328.76it/s]\n",
      "Parsing nodes: 100%|██████████| 1/1 [00:00<00:00, 275.94it/s]\n",
      "Parsing nodes: 100%|██████████| 1/1 [00:00<00:00, 304.86it/s]\n",
      "Parsing nodes: 100%|██████████| 1/1 [00:00<00:00, 290.95it/s]\n",
      "Parsing nodes: 100%|██████████| 1/1 [00:00<00:00, 287.03it/s]\n",
      "Parsing nodes: 100%|██████████| 1/1 [00:00<00:00, 291.96it/s]\n",
      "Parsing nodes: 100%|██████████| 1/1 [00:00<00:00, 276.16it/s]\n",
      "Parsing nodes: 100%|██████████| 1/1 [00:00<00:00, 297.03it/s]\n",
      "Parsing nodes: 100%|██████████| 1/1 [00:00<00:00, 325.52it/s]\n",
      "Parsing nodes: 100%|██████████| 1/1 [00:00<00:00, 318.28it/s]\n",
      "Parsing nodes: 100%|██████████| 1/1 [00:00<00:00, 355.03it/s]\n",
      "Parsing nodes: 100%|██████████| 1/1 [00:00<00:00, 380.09it/s]\n",
      "Parsing nodes: 100%|██████████| 1/1 [00:00<00:00, 446.82it/s]\n",
      "Parsing nodes: 100%|██████████| 1/1 [00:00<00:00, 1536.38it/s]\n",
      "Parsing nodes: 100%|██████████| 1/1 [00:00<00:00, 1798.59it/s]\n",
      "Parsing nodes: 100%|██████████| 1/1 [00:00<00:00, 2709.50it/s]\n",
      "Parsing nodes: 100%|██████████| 1/1 [00:00<00:00, 2914.74it/s]\n",
      "Parsing nodes: 100%|██████████| 1/1 [00:00<00:00, 2201.73it/s]\n",
      "Parsing nodes: 100%|██████████| 1/1 [00:00<00:00, 4236.67it/s]\n",
      "Parsing nodes: 100%|██████████| 1/1 [00:00<00:00, 716.98it/s]\n"
     ]
    }
   ],
   "source": [
    "# index = VectorStoreIndex.from_documents(documents, service_context=service_context, show_progress=True)\n",
    "index = VectorStoreIndex([], service_context=service_context, show_progress=True)\n",
    "for doc in documents:\n",
    "    index.insert(doc)"
   ]
  },
  {
   "cell_type": "markdown",
   "id": "3008507b",
   "metadata": {},
   "source": [
    "## Retrieval: Now do a search to retrieve the chunk of document text that most closely matches our original query"
   ]
  },
  {
   "cell_type": "markdown",
   "id": "metallic-douglas",
   "metadata": {},
   "source": [
    "## Setup retriever and reranker"
   ]
  },
  {
   "cell_type": "code",
   "execution_count": 21,
   "id": "neural-lewis",
   "metadata": {},
   "outputs": [],
   "source": [
    "\n",
    "search_query_retriever = index.as_retriever(service_context=service_context)\n",
    "#reranker = CohereRerank()"
   ]
  },
  {
   "cell_type": "markdown",
   "id": "7d420d81",
   "metadata": {},
   "source": [
    "## Query Response pipeline"
   ]
  },
  {
   "cell_type": "code",
   "execution_count": 24,
   "id": "registered-bedroom",
   "metadata": {},
   "outputs": [],
   "source": [
    "def get_response_to_query(query):\n",
    "    # search_query_retrieved_nodes = search_query_retriever.retrieve(query)\n",
    "    # print(f\"Search query retriever found {len(search_query_retrieved_nodes)} results\")\n",
    "    # print(f\"First result example:\\n{search_query_retrieved_nodes[0]}\\n\")\n",
    "    query_engine = index.as_query_engine(\n",
    "        # streaming=True\n",
    "        #node_postprocessors = [reranker]\n",
    "    )\n",
    "    result = query_engine.query(query)\n",
    "    return result"
   ]
  },
  {
   "cell_type": "markdown",
   "id": "29366790",
   "metadata": {},
   "source": [
    "## Get the Fund Name"
   ]
  },
  {
   "cell_type": "code",
   "execution_count": 27,
   "id": "bc1d785d",
   "metadata": {},
   "outputs": [
    {
     "name": "stdout",
     "output_type": "stream",
     "text": [
      "ok\n",
      "Vanguard Extended Market Index Fund"
     ]
    }
   ],
   "source": [
    "fund_name = get_response_to_query(\"What is the name of the fund? Give only the name without additional comments. The name of the fund is: \")\n",
    "print(f\"Fund Name: {fund_name}\")"
   ]
  },
  {
   "cell_type": "markdown",
   "id": "dd12bf2e",
   "metadata": {},
   "source": [
    "## Get responses to key queries"
   ]
  },
  {
   "cell_type": "code",
   "execution_count": 11,
   "id": "960dd030",
   "metadata": {},
   "outputs": [],
   "source": [
    "queries = [\n",
    "    \"What is the investment strategy of the fund?\",\n",
    "    \"What are the investment objectives of the fund?\",\n",
    "    \"Who are the key people in the management team?\",\n",
    "    \"What is the investment philosphy of the fund regarding ESG (Environmental, Social, and Governance)?\",\n",
    "    \"What industries, markets, or types of securities is the fund want exposure to?\",\n",
    "    \"What investment tools (derivatives, leverage, etc) does does the fund use to achieve their investment goals?\"\n",
    "]"
   ]
  },
  {
   "cell_type": "code",
   "execution_count": 12,
   "id": "competent-utility",
   "metadata": {},
   "outputs": [],
   "source": [
    "responses = []\n",
    "\n",
    "for query in queries:\n",
    "    result = get_response_to_query(query)\n",
    "    responses.append(result)\n",
    "\n",
    "response_answer_pairs = zip(queries, responses)\n"
   ]
  },
  {
   "cell_type": "code",
   "execution_count": 32,
   "id": "6a9d7b07",
   "metadata": {},
   "outputs": [
    {
     "data": {
      "text/plain": [
       "[{'query': 'What is the investment strategy of the fund?',\n",
       "  'response': 'Based on the provided context, the investment strategy of the fund is to invest at least 80% of its assets in the stocks that make up its target index.'},\n",
       " {'query': 'What are the investment objectives of the fund?',\n",
       "  'response': 'Based on the provided context, the investment objectives of the fund are to invest at least 80% of its assets in the stocks that make up its target index, and to change its investment strategies or policies in the interest of shareholders without a shareholder vote, unless those strategies or policies are designated as fundamental.'},\n",
       " {'query': 'Who are the key people in the management team?',\n",
       "  'response': \"Based on the provided context, the key people in the management team of the Vanguard ETFs are:\\n\\n1. Nick Birkett, CFA - Portfolio Manager at Vanguard.\\n2. Michelle Louie, CFA - Portfolio Manager at Vanguard.\\n3. Walter Nejman - Portfolio Manager at Vanguard.\\n4. Gerard C. O'Reilly - Principal of Vanguard and manager of the Fund since 1994 (co-managed since 2016).\"},\n",
       " {'query': 'What is the investment philosphy of the fund regarding ESG (Environmental, Social, and Governance)?',\n",
       "  'response': \"The fund's investment philosophy with regards to Environmental, Social, and Governance (ESG) factors is not explicitly stated in the provided context. However, based on the information provided, it can be inferred that the fund prioritizes the financial performance of its investments over ESG considerations.\\n\\nThe prospectus emphasizes the importance of costs in choosing an ETF and explains that shareholders pay a proportionate share of the costs of operating a fund and any transaction costs incurred when the fund buys or sells securities. This suggests that the fund's primary focus is on delivering strong investment returns, rather than incorporating ESG factors into its investment strategy.\\n\\nAdditionally, the prospectus does not provide any information about the fund's approach to ESG investing, such as whether it screens for environmental, social, or governance issues or prioritizes investments in companies with strong ESG practices. Therefore, it can be inferred that the fund does not have a formal ESG investment philosophy.\"},\n",
       " {'query': 'What industries, markets, or types of securities is the fund want exposure to?',\n",
       "  'response': 'Based on the provided context, the fund wants exposure to stocks of publicly traded companies that are classified according to market capitalization, which includes small-cap, mid-cap, and large-cap stocks.'},\n",
       " {'query': 'What investment tools (derivatives, leverage, etc) does does the fund use to achieve their investment goals?',\n",
       "  'response': 'Based on the provided context, it appears that the fund uses a variety of investment tools to achieve its investment goals. These tools may include derivatives, such as equity futures and total return swaps, which allow the fund to gain exposure to a stock, basket of stocks, or an index while attempting to remain fully invested in stocks. The use of these derivatives can help reduce transaction costs and stay fully invested. Additionally, the fund may use leverage to increase its potential returns, but it is important to note that this can also amplify losses. It is not explicitly stated in the provided context whether the fund uses leverage, but it is mentioned that the fund may invest in derivatives to a limited extent.'}]"
      ]
     },
     "execution_count": 32,
     "metadata": {},
     "output_type": "execute_result"
    }
   ],
   "source": [
    "[{\"query\": query, \"response\": response.response} for query,response in zip (queries, responses)]"
   ]
  },
  {
   "cell_type": "code",
   "execution_count": 13,
   "id": "competitive-draft",
   "metadata": {},
   "outputs": [
    {
     "name": "stdout",
     "output_type": "stream",
     "text": [
      "What is the investment strategy of the fund?\n",
      "Based on the provided context, the investment strategy of the fund is to invest at least 80% of its assets in the stocks that make up its target index.\n",
      "\n",
      "What are the investment objectives of the fund?\n",
      "Based on the provided context, the investment objectives of the fund are to invest at least 80% of its assets in the stocks that make up its target index, and to change its investment strategies or policies in the interest of shareholders without a shareholder vote, unless those strategies or policies are designated as fundamental.\n",
      "\n",
      "Who are the key people in the management team?\n",
      "Based on the provided context, the key people in the management team of the Vanguard ETFs are:\n",
      "\n",
      "1. Nick Birkett, CFA - Portfolio Manager at Vanguard.\n",
      "2. Michelle Louie, CFA - Portfolio Manager at Vanguard.\n",
      "3. Walter Nejman - Portfolio Manager at Vanguard.\n",
      "4. Gerard C. O'Reilly - Principal of Vanguard and manager of the Fund since 1994 (co-managed since 2016).\n",
      "\n",
      "What is the investment philosphy of the fund regarding ESG (Environmental, Social, and Governance)?\n",
      "The fund's investment philosophy with regards to Environmental, Social, and Governance (ESG) factors is not explicitly stated in the provided context. However, based on the information provided, it can be inferred that the fund prioritizes the financial performance of its investments over ESG considerations.\n",
      "\n",
      "The prospectus emphasizes the importance of costs in choosing an ETF and explains that shareholders pay a proportionate share of the costs of operating a fund and any transaction costs incurred when the fund buys or sells securities. This suggests that the fund's primary focus is on delivering strong investment returns, rather than incorporating ESG factors into its investment strategy.\n",
      "\n",
      "Additionally, the prospectus does not provide any information about the fund's approach to ESG investing, such as whether it screens for environmental, social, or governance issues or prioritizes investments in companies with strong ESG practices. Therefore, it can be inferred that the fund does not have a formal ESG investment philosophy.\n",
      "\n",
      "What industries, markets, or types of securities is the fund want exposure to?\n",
      "Based on the provided context, the fund wants exposure to stocks of publicly traded companies that are classified according to market capitalization, which includes small-cap, mid-cap, and large-cap stocks.\n",
      "\n",
      "What investment tools (derivatives, leverage, etc) does does the fund use to achieve their investment goals?\n",
      "Based on the provided context, it appears that the fund uses a variety of investment tools to achieve its investment goals. These tools may include derivatives, such as equity futures and total return swaps, which allow the fund to gain exposure to a stock, basket of stocks, or an index while attempting to remain fully invested in stocks. The use of these derivatives can help reduce transaction costs and stay fully invested. Additionally, the fund may use leverage to increase its potential returns, but it is important to note that this can also amplify losses. It is not explicitly stated in the provided context whether the fund uses leverage, but it is mentioned that the fund may invest in derivatives to a limited extent.\n",
      "\n",
      "\n"
     ]
    }
   ],
   "source": [
    "response_answer_text = \"\"\n",
    "for (query, response) in response_answer_pairs:\n",
    "    response_answer_text = f\"{response_answer_text}{query}\\n{response}\\n\\n\"\n",
    "\n",
    "print(response_answer_text)"
   ]
  },
  {
   "cell_type": "markdown",
   "id": "2c651907",
   "metadata": {},
   "source": [
    "## Chat Engine"
   ]
  },
  {
   "cell_type": "code",
   "execution_count": 15,
   "id": "e3c128ce",
   "metadata": {},
   "outputs": [],
   "source": [
    "from llama_index.core.memory import ChatMemoryBuffer\n",
    "\n",
    "memory = ChatMemoryBuffer.from_defaults(token_limit=1500)\n",
    "\n",
    "chat_engine = index.as_chat_engine(\n",
    "    chat_mode=\"context\",\n",
    "    memory=memory,\n",
    "    system_prompt=(\n",
    "        f\"You are an expert Mutual Fund analyst for a bank, and you privide answers to your boss about whether the bank should purchase the fund named {fund_name}.\"\n",
    "        f\"  You have answered these key questions about the fund:\\n {response_answer_text}\"\n",
    "    ),\n",
    ")"
   ]
  },
  {
   "cell_type": "code",
   "execution_count": 16,
   "id": "d77dc1cd",
   "metadata": {},
   "outputs": [
    {
     "name": "stdout",
     "output_type": "stream",
     "text": [
      "Based on the information provided in the prospectus, the level of risk for the Vanguard Total Stock Market Index Fund appears to be moderate to high. The fund invests at least 80% of its assets in stocks that make up its target index, which means it is exposed to the risks associated with stock market investments. The prospectus also highlights several key risks, including:\n",
      "\n",
      "1. Stock market risk: The chance that stock prices overall will decline. Stock markets tend to move in cycles, with periods of rising prices and periods of falling prices.\n",
      "2. Index sampling risk: The chance that the securities selected for the fund, in the aggregate, will not provide investment performance matching that of the fund's target index. This risk is expected to be low.\n",
      "3. Derivatives risk: The use of derivatives, such as equity futures and total return swaps, can amplify gains or losses depending on market conditions. While these tools can help reduce transaction costs and stay fully invested, they also introduce additional risks.\n",
      "4. Leverage risk: The fund may use leverage to increase its potential returns, but this can also amplify losses.\n",
      "\n",
      "Overall, the fund's investment strategy is designed to provide broad exposure to the U.S. stock market while minimizing transaction costs and seeking to track its target index. However, as with any investment, there is always a risk of loss, and investors should carefully consider their risk tolerance before investing in the fund.\n"
     ]
    }
   ],
   "source": [
    "chat_response = chat_engine.chat(\"What is the level of risk for the fund?\")\n",
    "print(chat_response)"
   ]
  },
  {
   "cell_type": "code",
   "execution_count": 17,
   "id": "462d115c",
   "metadata": {},
   "outputs": [
    {
     "name": "stdout",
     "output_type": "stream",
     "text": [
      "Based on the information provided in the prospectus, the level of risk for the Vanguard Total Stock Market Index Fund is likely to be higher than most other mutual funds. This is because the fund invests at least 80% of its assets in stocks that make up its target index, which means it is exposed to the risks associated with stock market investments. Additionally, the prospectus highlights several key risks, including stock market risk, index sampling risk, derivatives risk, and leverage risk, which can all contribute to a higher level of risk compared to other funds that may have more limited exposure to these risks.\n",
      "\n",
      "It's important to note that the risk level of a mutual fund can vary depending on its investment strategy and the specific securities it holds. Some funds may be more conservative and focused on income generation, while others may take on more risk in pursuit of higher returns. It's always important to carefully evaluate the investment objectives and strategies of any mutual fund before investing, and to consider your own risk tolerance and financial goals when making investment decisions.\n"
     ]
    }
   ],
   "source": [
    "chat_response = chat_engine.chat(\"is it higher or lower than most funds?\")\n",
    "print(chat_response)"
   ]
  }
 ],
 "metadata": {
  "kernelspec": {
   "display_name": "venv",
   "language": "python",
   "name": "python3"
  },
  "language_info": {
   "codemirror_mode": {
    "name": "ipython",
    "version": 3
   },
   "file_extension": ".py",
   "mimetype": "text/x-python",
   "name": "python",
   "nbconvert_exporter": "python",
   "pygments_lexer": "ipython3",
   "version": "3.11.7"
  }
 },
 "nbformat": 4,
 "nbformat_minor": 5
}
