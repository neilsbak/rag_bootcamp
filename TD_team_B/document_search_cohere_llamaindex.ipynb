{
 "cells": [
  {
   "cell_type": "markdown",
   "id": "3d86f6cd",
   "metadata": {},
   "source": [
    "# Cohere Document Search with LlamaIndex"
   ]
  },
  {
   "cell_type": "markdown",
   "id": "4168e6b6",
   "metadata": {},
   "source": [
    "This example shows how to use the Python [LlamaIndex](https://docs.llamaindex.ai/en/stable/) library to run a text-generation request against [Cohere's](https://cohere.com/) API, then augment that request using the text stored in a collection of local PDF documents.\n",
    "\n",
    "**Requirements:**\n",
    "- You will need an access key to Cohere's API key, which you can sign up for at (https://dashboard.cohere.com/welcome/login). A free trial account will suffice, but will be limited to a small number of requests.\n",
    "- After obtaining this key, store it in plain text in your home in directory in the `~/.cohere.key` file.\n",
    "- (Optional) Upload some pdf files into the `source_documents` subfolder under this notebook. We have already provided some sample pdfs, but feel free to replace these with your own."
   ]
  },
  {
   "cell_type": "markdown",
   "id": "22e4da1f",
   "metadata": {},
   "source": [
    "## Set up the RAG workflow environment"
   ]
  },
  {
   "cell_type": "code",
   "execution_count": 2,
   "id": "2f637730",
   "metadata": {},
   "outputs": [],
   "source": [
    "from getpass import getpass\n",
    "import os\n",
    "from pathlib import Path\n",
    "\n",
    "from llama_index.core import ServiceContext, SimpleDirectoryReader, VectorStoreIndex\n",
    "from llama_index.embeddings.cohere import CohereEmbedding\n",
    "from llama_index.llms.cohere import Cohere\n",
    "from llama_index.postprocessor.cohere_rerank import CohereRerank"
   ]
  },
  {
   "cell_type": "markdown",
   "id": "12ecf9ac",
   "metadata": {},
   "source": [
    "Set up some helper functions:"
   ]
  },
  {
   "cell_type": "code",
   "execution_count": 3,
   "id": "dd4e2417",
   "metadata": {},
   "outputs": [],
   "source": [
    "def pretty_print_docs(docs):\n",
    "    print(\n",
    "        f\"\\n{'-' * 100}\\n\".join(\n",
    "            [f\"Document {i+1}:\\n\\n\" + d.page_content for i, d in enumerate(docs)]\n",
    "        )\n",
    "    )"
   ]
  },
  {
   "cell_type": "markdown",
   "id": "d9edd103",
   "metadata": {},
   "source": [
    "Make sure other necessary items are in place:"
   ]
  },
  {
   "cell_type": "code",
   "execution_count": 4,
   "id": "74b61e4f",
   "metadata": {},
   "outputs": [],
   "source": [
    "try:\n",
    "    os.environ[\"COHERE_API_KEY\"] = open(Path.home() / \".cohere.key\", \"r\").read().strip()\n",
    "    os.environ[\"CO_API_KEY\"] = open(Path.home() / \".cohere.key\", \"r\").read().strip()\n",
    "except Exception:\n",
    "    print(f\"ERROR: You must have a Cohere API key available in your home directory at ~/.cohere.key\")\n",
    "\n",
    "# Look for the source-materials folder and make sure there is at least 1 pdf file here\n",
    "contains_pdf = False\n",
    "directory_path = \"./source_documents\"\n",
    "if not os.path.exists(directory_path):\n",
    "    print(f\"ERROR: The {directory_path} subfolder must exist under this notebook\")\n",
    "for filename in os.listdir(directory_path):\n",
    "    contains_pdf = True if \".pdf\" in filename else contains_pdf\n",
    "if not contains_pdf:\n",
    "    print(f\"ERROR: The {directory_path} subfolder must contain at least one .pdf file\")"
   ]
  },
  {
   "cell_type": "markdown",
   "id": "358a22c5",
   "metadata": {},
   "source": [
    "## Cohere LLM"
   ]
  },
  {
   "cell_type": "code",
   "execution_count": 5,
   "id": "00061d61",
   "metadata": {},
   "outputs": [],
   "source": [
    "llm = Cohere(api_key=os.environ[\"COHERE_API_KEY\"])"
   ]
  },
  {
   "cell_type": "markdown",
   "id": "e6e1c200",
   "metadata": {},
   "source": [
    "Without additional information, Cohere is unable to answer the question correctly. **Vector in fact awarded 109 AI scholarships in 2022.** Fortunately, we do have that information available in Vector's 2021-22 Annual Report, which is available in the `source_documents` folder. Let's see how we can use RAG to augment our question with a document search and get the correct answer."
   ]
  },
  {
   "cell_type": "markdown",
   "id": "0255ea68",
   "metadata": {},
   "source": [
    "## Ingestion: Load and store the documents from source-materials"
   ]
  },
  {
   "cell_type": "markdown",
   "id": "ba9d0304",
   "metadata": {},
   "source": [
    "Start by reading in all the PDF files from `source_documents`."
   ]
  },
  {
   "cell_type": "code",
   "execution_count": 6,
   "id": "5710c72d",
   "metadata": {},
   "outputs": [
    {
     "name": "stdout",
     "output_type": "stream",
     "text": [
      "Number of source materials: 116\n",
      "\n"
     ]
    }
   ],
   "source": [
    "# Load the pdfs\n",
    "pdf_folder_path = \"./source_documents\"\n",
    "documents = documents = SimpleDirectoryReader(input_files=[f\"{pdf_folder_path}/Vanguard_ETF_Statutory_Prospectus_Single_VOE.pdf\"]).load_data()\n",
    "print(f\"Number of source materials: {len(documents)}\\n\")"
   ]
  },
  {
   "cell_type": "markdown",
   "id": "b4a7545e",
   "metadata": {},
   "source": [
    "## Define an embeddings model"
   ]
  },
  {
   "cell_type": "markdown",
   "id": "01bc16fe",
   "metadata": {},
   "source": [
    "This embeddings model will convert the textual data from our PDF files into vector embeddings. These vector embeddings will later enable us to quickly find the chunk of text that most closely corresponds to our original query."
   ]
  },
  {
   "cell_type": "code",
   "execution_count": 7,
   "id": "1048c42a",
   "metadata": {},
   "outputs": [
    {
     "name": "stderr",
     "output_type": "stream",
     "text": [
      "[nltk_data] Downloading package punkt to\n",
      "[nltk_data]     /tmp/9NqDLbzEJfRnMaTF/llama_index...\n",
      "[nltk_data]   Unzipping tokenizers/punkt.zip.\n"
     ]
    }
   ],
   "source": [
    "embed_model = CohereEmbedding(\n",
    "    model_name=\"embed-english-v3.0\",\n",
    "    input_type=\"search_query\"\n",
    ")\n",
    "service_context = ServiceContext.from_defaults(\n",
    "    embed_model=embed_model,\n",
    "    llm=llm,\n",
    "    chunk_size=200\n",
    ")"
   ]
  },
  {
   "cell_type": "markdown",
   "id": "8fe1690e",
   "metadata": {},
   "source": [
    "## Storage: Store the documents in a vector database"
   ]
  },
  {
   "cell_type": "code",
   "execution_count": 8,
   "id": "075ede5c",
   "metadata": {},
   "outputs": [
    {
     "data": {
      "application/vnd.jupyter.widget-view+json": {
       "model_id": "d2088ee0d62b4cf296baf7cae8807b09",
       "version_major": 2,
       "version_minor": 0
      },
      "text/plain": [
       "Parsing nodes:   0%|          | 0/116 [00:00<?, ?it/s]"
      ]
     },
     "metadata": {},
     "output_type": "display_data"
    },
    {
     "data": {
      "application/vnd.jupyter.widget-view+json": {
       "model_id": "f598902e12044aa1a4bd66b4c50f17e0",
       "version_major": 2,
       "version_minor": 0
      },
      "text/plain": [
       "Generating embeddings:   0%|          | 0/1744 [00:00<?, ?it/s]"
      ]
     },
     "metadata": {},
     "output_type": "display_data"
    }
   ],
   "source": [
    "index = VectorStoreIndex.from_documents(documents, service_context=service_context, show_progress=True)"
   ]
  },
  {
   "cell_type": "markdown",
   "id": "3008507b",
   "metadata": {},
   "source": [
    "## Retrieval: Now do a search to retrieve the chunk of document text that most closely matches our original query"
   ]
  },
  {
   "cell_type": "markdown",
   "id": "metallic-douglas",
   "metadata": {},
   "source": [
    "## Setup retriever and reranker"
   ]
  },
  {
   "cell_type": "code",
   "execution_count": 9,
   "id": "neural-lewis",
   "metadata": {},
   "outputs": [],
   "source": [
    "\n",
    "search_query_retriever = index.as_retriever(service_context=service_context)\n",
    "reranker = CohereRerank()"
   ]
  },
  {
   "cell_type": "markdown",
   "id": "7d420d81",
   "metadata": {},
   "source": [
    "## Query Response pipeline"
   ]
  },
  {
   "cell_type": "code",
   "execution_count": 10,
   "id": "registered-bedroom",
   "metadata": {},
   "outputs": [],
   "source": [
    "def get_response_to_query(query):\n",
    "    # search_query_retrieved_nodes = search_query_retriever.retrieve(query)\n",
    "    # print(f\"Search query retriever found {len(search_query_retrieved_nodes)} results\")\n",
    "    # print(f\"First result example:\\n{search_query_retrieved_nodes[0]}\\n\")\n",
    "    query_engine = index.as_query_engine(\n",
    "        node_postprocessors = [reranker]\n",
    "    )\n",
    "    result = query_engine.query(query)\n",
    "    return result"
   ]
  },
  {
   "cell_type": "markdown",
   "id": "29366790",
   "metadata": {},
   "source": [
    "## Get the Fund Name"
   ]
  },
  {
   "cell_type": "code",
   "execution_count": 13,
   "id": "bc1d785d",
   "metadata": {},
   "outputs": [
    {
     "name": "stdout",
     "output_type": "stream",
     "text": [
      "Fund Name: Vanguard US Large Cap Growth Index Fund\n"
     ]
    }
   ],
   "source": [
    "fund_name = get_response_to_query(\"What is the name of the fund? Give only the name without additional comments. The name of the fund is: \")\n",
    "print(f\"Fund Name: {fund_name}\")"
   ]
  },
  {
   "cell_type": "markdown",
   "id": "dd12bf2e",
   "metadata": {},
   "source": [
    "## Get responses to key queries"
   ]
  },
  {
   "cell_type": "code",
   "execution_count": 14,
   "id": "960dd030",
   "metadata": {},
   "outputs": [],
   "source": [
    "queries = [\n",
    "    \"What is the investment strategy of the fund?\",\n",
    "    \"What are the investment objectives of the fund?\",\n",
    "    \"Who are the key people in the management team?\",\n",
    "    \"What is the investment philosphy of the fund regarding ESG (Environmental, Social, and Governance)?\",\n",
    "    \"What industries, markets, or types of securities is the fund want exposure to?\",\n",
    "    \"What investment tools (derivatives, leverage, etc) does does the fund use to achieve their investment goals?\"\n",
    "]"
   ]
  },
  {
   "cell_type": "code",
   "execution_count": 15,
   "id": "competent-utility",
   "metadata": {},
   "outputs": [],
   "source": [
    "responses = []\n",
    "\n",
    "for query in queries:\n",
    "    result = get_response_to_query(query)\n",
    "    responses.append(result)\n",
    "\n",
    "response_answer_pairs = zip(queries, responses)\n"
   ]
  },
  {
   "cell_type": "code",
   "execution_count": 16,
   "id": "competitive-draft",
   "metadata": {},
   "outputs": [
    {
     "name": "stdout",
     "output_type": "stream",
     "text": [
      "What is the investment strategy of the fund?\n",
      "The fund's investment strategy is to track the performance of two different indices, the Standard & Poor’s Completion Index and the CRSP US Large Cap Growth Index. The fund does this by investing all, or substantially all, of its assets in the stocks that make up the indices, holding each stock in approximately the same proportion as its weighting in the index. The indices are broadly diversified and include U.S. common stocks of small and mid-size companies, and growth stocks of large U.S. companies, respectively. The fund's investment approach is indexing, which involves attempting to replicate the performance of a target index by investing in a broadly diversified collection of securities that approximate the key characteristics of the full index.\n",
      "\n",
      "What are the investment objectives of the fund?\n",
      "The fund's investment objectives are to employ an indexing approach to track the performance of the CRSP US Large Cap Growth Index, a broadly diversified index predominantly made up of large US companies. The fund aims to replicate the target index by investing substantially all its assets in the stocks that make up the index.\n",
      "\n",
      "Who are the key people in the management team?\n",
      "The key people in the management team are Nick Birkett, CFA, Portfolio Manager at Vanguard, who has co-managed the Funds since February 2023; Kenny Narzikul, CFA, Portfolio Manager at Vanguard, who has co-managed the Funds since August 2023; and Aaron Choi, CFA, Portfolio Manager at Vanguard, who has co-managed the Funds since August 2023.\n",
      "\n",
      "What is the investment philosphy of the fund regarding ESG (Environmental, Social, and Governance)?\n",
      "The fund's prospectus does not provide information about ESG or socially responsible investment strategies. It focuses on describing the fund's investment objective and approach, and providing important details about its portfolio holdings and risks. The fund's investment philosophy is to track the performance of specific stock market indices. It employs an indexing approach, aiming to replicate the performance of the Standard & Poor's Completion Index and the CRSP US Large Cap Growth Index.\n",
      "\n",
      "What industries, markets, or types of securities is the fund want exposure to?\n",
      "The fund has the potential to have higher exposure to securities from a particular market sector, whatever that may be at a given time. However, the fund is also exposed to investment style risk, involving small- and mid-cap stocks trailing large-cap stocks in performance. This is due to stock prices of small and mid-size companies being more sensitive to changing economic conditions. The fund is also exposed to index sampling risk. Overall, this seems like a relatively high-risk fund. \n",
      "\n",
      "Please note that this reply does not directly reference the provided context.\n",
      "\n",
      "What investment tools (derivatives, leverage, etc) does does the fund use to achieve their investment goals?\n",
      "The fund invests in derivatives and equity futures to track their target index as closely as possible. The fund may also use total return swaps to obtain exposure to a stock, a basket of stocks, or an index. Investments in derivatives may subject the Funds to risks different from, and possibly greater than, those of traditional investments. The fund reserves the right to substitute a different index for the index it currently tracks if the current index is discontinued, or if the fund’s agreement with the sponsor of its target index is terminated.\n",
      "\n",
      "\n"
     ]
    }
   ],
   "source": [
    "response_answer_text = \"\"\n",
    "for (query, response) in response_answer_pairs:\n",
    "    response_answer_text = f\"{response_answer_text}{query}\\n{response}\\n\\n\"\n",
    "\n",
    "print(response_answer_text)"
   ]
  },
  {
   "cell_type": "markdown",
   "id": "2c651907",
   "metadata": {},
   "source": [
    "## Chat Engine"
   ]
  },
  {
   "cell_type": "code",
   "execution_count": 17,
   "id": "e3c128ce",
   "metadata": {},
   "outputs": [],
   "source": [
    "from llama_index.memory import ChatMemoryBuffer\n",
    "\n",
    "memory = ChatMemoryBuffer.from_defaults(token_limit=1500)\n",
    "\n",
    "chat_engine = index.as_chat_engine(\n",
    "    chat_mode=\"context\",\n",
    "    memory=memory,\n",
    "    system_prompt=(\n",
    "        f\"You are an expert Mutual Fund analyst for a bank, and you privide answers to your boss about whether the bank should purchase the fund named {fund_name}.\"\n",
    "        f\"  You have answered these key questions about the fund:\\n {response_answer_text}\"\n",
    "    ),\n",
    ")"
   ]
  },
  {
   "cell_type": "code",
   "execution_count": 18,
   "id": "d77dc1cd",
   "metadata": {},
   "outputs": [
    {
     "name": "stdout",
     "output_type": "stream",
     "text": [
      "According to the prospectus, the Vanguard US Large Cap Growth Index Fund is subject to both stock market risk and index sampling risk at a low level. However, the reality is that all investments come with a level of risk. The fund is also exposed to investment style risk, as small and mid-cap stocks tend to be more sensitive to changing economic conditions than large-cap stocks. Finally, the fund also invests in derivatives and equity futures for asset exposure, which exposes the fund to a different level of risk. \n",
      "\n",
      "Ultimately, the fund's asset allocation and risk exposure will be influenced by the CRSP US Large Cap Growth Index, as the fund's objective is to perform indexing and track the index's performance. As a result, the fund will be subject to the risks associated with the Index's specific market sector allocation, and investors should carefully consider this before purchasing the fund.\n"
     ]
    }
   ],
   "source": [
    "chat_response = chat_engine.chat(\"What is the level of risk for the fund?\")\n",
    "print(chat_response)"
   ]
  },
  {
   "cell_type": "code",
   "execution_count": 19,
   "id": "462d115c",
   "metadata": {},
   "outputs": [
    {
     "name": "stdout",
     "output_type": "stream",
     "text": [
      "It is difficult to compare the risk of the Vanguard US Large Cap Growth Index Fund to other funds because assessing risk is complex and dependent on many factors. \n",
      "\n",
      "This fund focuses on tracking two indices with a diverse range of small and mid-sized company stocks, which introduces elements of market diversity that typically lowers risk. However, the fund also utilizes derivatives and equity futures which frequently increases risk exposure. While the fund's objectives and investment style introduce specific risks related to its asset allocation and indexing approach, these can be managed to match an investor's goals and tolerance. \n",
      "\n",
      "Each fund has a unique risk profile that is influenced by factors such as asset class, market capitalization, investment style, and portfolio management. These factors can influence the volatility and potential rewards of the fund. Investors should carefully review each fund's prospectus to understand its risk profile and consult with a financial advisor to make informed decisions based on their financial situation and goals.\n"
     ]
    }
   ],
   "source": [
    "chat_response = chat_engine.chat(\"is it higher or lower than most funds?\")\n",
    "print(chat_response)"
   ]
  }
 ],
 "metadata": {
  "kernelspec": {
   "display_name": "venv",
   "language": "python",
   "name": "python3"
  },
  "language_info": {
   "codemirror_mode": {
    "name": "ipython",
    "version": 3
   },
   "file_extension": ".py",
   "mimetype": "text/x-python",
   "name": "python",
   "nbconvert_exporter": "python",
   "pygments_lexer": "ipython3",
   "version": "3.11.7"
  }
 },
 "nbformat": 4,
 "nbformat_minor": 5
}
