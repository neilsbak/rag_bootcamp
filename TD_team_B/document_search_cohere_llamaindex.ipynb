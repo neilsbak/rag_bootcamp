{
 "cells": [
  {
   "cell_type": "markdown",
   "id": "3d86f6cd",
   "metadata": {},
   "source": [
    "# Cohere Document Search with LlamaIndex"
   ]
  },
  {
   "cell_type": "markdown",
   "id": "4168e6b6",
   "metadata": {},
   "source": [
    "This example shows how to use the Python [LlamaIndex](https://docs.llamaindex.ai/en/stable/) library to run a text-generation request against [Cohere's](https://cohere.com/) API, then augment that request using the text stored in a collection of local PDF documents.\n",
    "\n",
    "**Requirements:**\n",
    "- You will need an access key to Cohere's API key, which you can sign up for at (https://dashboard.cohere.com/welcome/login). A free trial account will suffice, but will be limited to a small number of requests.\n",
    "- After obtaining this key, store it in plain text in your home in directory in the `~/.cohere.key` file.\n",
    "- (Optional) Upload some pdf files into the `source_documents` subfolder under this notebook. We have already provided some sample pdfs, but feel free to replace these with your own."
   ]
  },
  {
   "cell_type": "markdown",
   "id": "22e4da1f",
   "metadata": {},
   "source": [
    "## Set up the RAG workflow environment"
   ]
  },
  {
   "cell_type": "code",
   "execution_count": 2,
   "id": "2f637730",
   "metadata": {},
   "outputs": [],
   "source": [
    "from getpass import getpass\n",
    "import os\n",
    "from pathlib import Path\n",
    "\n",
    "from llama_index.core import ServiceContext, SimpleDirectoryReader, VectorStoreIndex\n",
    "from llama_index.embeddings.cohere import CohereEmbedding\n",
    "from llama_index.llms.cohere import Cohere\n",
    "from llama_index.postprocessor.cohere_rerank import CohereRerank"
   ]
  },
  {
   "cell_type": "markdown",
   "id": "12ecf9ac",
   "metadata": {},
   "source": [
    "Set up some helper functions:"
   ]
  },
  {
   "cell_type": "code",
   "execution_count": 3,
   "id": "dd4e2417",
   "metadata": {},
   "outputs": [],
   "source": [
    "def pretty_print_docs(docs):\n",
    "    print(\n",
    "        f\"\\n{'-' * 100}\\n\".join(\n",
    "            [f\"Document {i+1}:\\n\\n\" + d.page_content for i, d in enumerate(docs)]\n",
    "        )\n",
    "    )"
   ]
  },
  {
   "cell_type": "markdown",
   "id": "d9edd103",
   "metadata": {},
   "source": [
    "Make sure other necessary items are in place:"
   ]
  },
  {
   "cell_type": "code",
   "execution_count": 4,
   "id": "74b61e4f",
   "metadata": {},
   "outputs": [],
   "source": [
    "try:\n",
    "    os.environ[\"COHERE_API_KEY\"] = open(Path.home() / \".cohere.key\", \"r\").read().strip()\n",
    "    os.environ[\"CO_API_KEY\"] = open(Path.home() / \".cohere.key\", \"r\").read().strip()\n",
    "except Exception:\n",
    "    print(f\"ERROR: You must have a Cohere API key available in your home directory at ~/.cohere.key\")\n",
    "\n",
    "# Look for the source-materials folder and make sure there is at least 1 pdf file here\n",
    "contains_pdf = False\n",
    "directory_path = \"./source_documents\"\n",
    "if not os.path.exists(directory_path):\n",
    "    print(f\"ERROR: The {directory_path} subfolder must exist under this notebook\")\n",
    "for filename in os.listdir(directory_path):\n",
    "    contains_pdf = True if \".pdf\" in filename else contains_pdf\n",
    "if not contains_pdf:\n",
    "    print(f\"ERROR: The {directory_path} subfolder must contain at least one .pdf file\")"
   ]
  },
  {
   "cell_type": "markdown",
   "id": "358a22c5",
   "metadata": {},
   "source": [
    "## Cohere LLM"
   ]
  },
  {
   "cell_type": "code",
   "execution_count": 5,
   "id": "00061d61",
   "metadata": {},
   "outputs": [],
   "source": [
    "llm = Cohere(api_key=os.environ[\"COHERE_API_KEY\"])"
   ]
  },
  {
   "cell_type": "markdown",
   "id": "e6e1c200",
   "metadata": {},
   "source": [
    "Without additional information, Cohere is unable to answer the question correctly. **Vector in fact awarded 109 AI scholarships in 2022.** Fortunately, we do have that information available in Vector's 2021-22 Annual Report, which is available in the `source_documents` folder. Let's see how we can use RAG to augment our question with a document search and get the correct answer."
   ]
  },
  {
   "cell_type": "markdown",
   "id": "0255ea68",
   "metadata": {},
   "source": [
    "## Ingestion: Load and store the documents from source-materials"
   ]
  },
  {
   "cell_type": "markdown",
   "id": "ba9d0304",
   "metadata": {},
   "source": [
    "Start by reading in all the PDF files from `source_documents`."
   ]
  },
  {
   "cell_type": "code",
   "execution_count": 7,
   "id": "5710c72d",
   "metadata": {},
   "outputs": [
    {
     "name": "stdout",
     "output_type": "stream",
     "text": [
      "Number of source materials: 12\n",
      "\n"
     ]
    }
   ],
   "source": [
    "# Load the pdfs\n",
    "pdf_folder_path = \"./source_documents\"\n",
    "documents = documents = SimpleDirectoryReader(input_files=[f\"{pdf_folder_path}/Blackrock_MF_Summary_Prospectus_Single_BROAX-BROCX-BROIX-BGORX.pdf\"]).load_data()\n",
    "print(f\"Number of source materials: {len(documents)}\\n\")"
   ]
  },
  {
   "cell_type": "markdown",
   "id": "b4a7545e",
   "metadata": {},
   "source": [
    "## Define an embeddings model"
   ]
  },
  {
   "cell_type": "markdown",
   "id": "01bc16fe",
   "metadata": {},
   "source": [
    "This embeddings model will convert the textual data from our PDF files into vector embeddings. These vector embeddings will later enable us to quickly find the chunk of text that most closely corresponds to our original query."
   ]
  },
  {
   "cell_type": "code",
   "execution_count": 8,
   "id": "1048c42a",
   "metadata": {},
   "outputs": [
    {
     "name": "stderr",
     "output_type": "stream",
     "text": [
      "[nltk_data] Downloading package punkt to\n",
      "[nltk_data]     /tmp/fmuVvbHzYtyIqPnK/llama_index...\n",
      "[nltk_data]   Unzipping tokenizers/punkt.zip.\n"
     ]
    }
   ],
   "source": [
    "embed_model = CohereEmbedding(\n",
    "    model_name=\"embed-english-v3.0\",\n",
    "    input_type=\"search_query\"\n",
    ")\n",
    "service_context = ServiceContext.from_defaults(\n",
    "    embed_model=embed_model,\n",
    "    llm=llm,\n",
    "    chunk_size=200\n",
    ")"
   ]
  },
  {
   "cell_type": "markdown",
   "id": "8fe1690e",
   "metadata": {},
   "source": [
    "## Storage: Store the documents in a vector database"
   ]
  },
  {
   "cell_type": "code",
   "execution_count": 8,
   "id": "075ede5c",
   "metadata": {},
   "outputs": [
    {
     "data": {
      "application/vnd.jupyter.widget-view+json": {
       "model_id": "1bb3e48107824b69abb0045ba4151ea0",
       "version_major": 2,
       "version_minor": 0
      },
      "text/plain": [
       "Parsing nodes:   0%|          | 0/12 [00:00<?, ?it/s]"
      ]
     },
     "metadata": {},
     "output_type": "display_data"
    },
    {
     "data": {
      "application/vnd.jupyter.widget-view+json": {
       "model_id": "ad22e08b2eb44e48b56c64371ba7cb65",
       "version_major": 2,
       "version_minor": 0
      },
      "text/plain": [
       "Generating embeddings:   0%|          | 0/197 [00:00<?, ?it/s]"
      ]
     },
     "metadata": {},
     "output_type": "display_data"
    }
   ],
   "source": [
    "index = VectorStoreIndex.from_documents(documents, service_context=service_context, show_progress=True)"
   ]
  },
  {
   "cell_type": "markdown",
   "id": "3008507b",
   "metadata": {},
   "source": [
    "## Retrieval: Now do a search to retrieve the chunk of document text that most closely matches our original query"
   ]
  },
  {
   "cell_type": "code",
   "execution_count": 20,
   "id": "chemical-prague",
   "metadata": {},
   "outputs": [],
   "source": [
    "queries = [\n",
    "    \"What is the investment strategy of the fund?\",\n",
    "    \"What are the investment objectives of the fund?\",\n",
    "    \"Who are the key people in the management team?\",\n",
    "    \"What is the investment philosphy of the fund regarding ESG (Environmental, Social, and Governance)?\",\n",
    "    \"What industries, markets, or types of securities is the fund want exposure to?\",\n",
    "    \"What investment tools (derivatives, leverage, etc) does does the fund use to achieve their investment goals?\"\n",
    "]"
   ]
  },
  {
   "cell_type": "markdown",
   "id": "metallic-douglas",
   "metadata": {},
   "source": [
    "## Setup retriever and reranker"
   ]
  },
  {
   "cell_type": "code",
   "execution_count": 21,
   "id": "neural-lewis",
   "metadata": {},
   "outputs": [],
   "source": [
    "\n",
    "search_query_retriever = index.as_retriever(service_context=service_context)\n",
    "reranker = CohereRerank()"
   ]
  },
  {
   "cell_type": "markdown",
   "id": "destroyed-strip",
   "metadata": {},
   "source": [
    "## Get responses to key queries"
   ]
  },
  {
   "cell_type": "code",
   "execution_count": 22,
   "id": "competent-utility",
   "metadata": {},
   "outputs": [],
   "source": [
    "responses = []\n",
    "\n",
    "for query in queries:\n",
    "    search_query_retrieved_nodes = search_query_retriever.retrieve(query)\n",
    "    # print(f\"Search query retriever found {len(search_query_retrieved_nodes)} results\")\n",
    "    # print(f\"First result example:\\n{search_query_retrieved_nodes[0]}\\n\")\n",
    "    query_engine = index.as_query_engine(\n",
    "        node_postprocessors = [reranker]\n",
    "    )\n",
    "    result = query_engine.query(query)\n",
    "    responses.append(result)\n",
    "\n",
    "response_answer_pairs = zip(queries, responses)"
   ]
  },
  {
   "cell_type": "code",
   "execution_count": 23,
   "id": "competitive-draft",
   "metadata": {},
   "outputs": [
    {
     "name": "stdout",
     "output_type": "stream",
     "text": [
      "What is the investment strategy of the fund?\n",
      "The fund aims to invest at least 80% of its assets in non-US equity securities and equity-like instruments of companies that are part of the MSCI EAFE Index and derivatives tied to the index. These assets include a diverse range of industries that are chosen for market size, liquidity, and industry group representation. The fund primarily buys common stock, may also invest in preferred stock and convertible securities, and participates in new issues and IPOs.\n",
      "\n",
      "What are the investment objectives of the fund?\n",
      "The Fund’s investment objective is to provide long-term capital appreciation. The Fund aims to achieve this objective by investing primarily in equity securities, such as common stocks, of non-U.S. companies that are considered to be undervalued. These securities may include investments in emerging markets. Prior to October 16, 2017, the Fund was known as the BlackRock International Fund. \n",
      "\n",
      "Would you like to know more about this fund?\n",
      "\n",
      "Who are the key people in the management team?\n",
      "Raffaele Savi, Kevin Franklin, and Richard Mathieson have served as portfolio managers for the fund for 2 years, and they have the titles Senior Managing Director and Managing Director at BlackRock, Inc. BlackRock Advisors, LLC is the investment manager for the fund.\n",
      "\n",
      "What is the investment philosphy of the fund regarding ESG (Environmental, Social, and Governance)?\n",
      "The fund's investment philosophy regarding ESG (Environmental, Social, and Governance) considerations is to integrate them into its investment process and decision-making. The fund uses a combination of quantitative and qualitative analysis when evaluating ESG factors across seven major themes which include but are not limited to climate change, diversity and inclusion, and corporate governance. The fund's approach to ESG considerations is to actively seek out investments that have strong performance in these areas as well as taking a proactive role in engaging with companies that the fund invests in to encourage positive change and mitigate ESG-related risks.\n",
      "\n",
      "What industries, markets, or types of securities is the fund want exposure to?\n",
      "The fund primarily invests in equity securities and equity-like instruments of companies that are components of the MSCI EAFE Index, along with derivatives tied to the index. The MSCI EAFE Index is a capitalization-weighted index from a broad range of industries chosen for market size, liquidity, and industry group representation. The fund may also invest in shares of companies through new issues and initial public offerings (IPOs), both U.S. dollar-based and non-U.S. dollar-based.\n",
      "\n",
      "What investment tools (derivatives, leverage, etc) does does the fund use to achieve their investment goals?\n",
      "The fund uses derivatives such as options, futures, swaps, and forward contracts to increase return on investments and protect the value of its assets. The fund may also buy and sell financial futures contracts or options on such contracts to manage effective cash flows. These tools offer financial leverage and the ability to hedge investments against adverse movements in currency exchange rates, interest rates, and movements in the securities markets. \n",
      "The fund also incorporates quantitative analysis and proprietary return forecast models that identify aspects of mispricing across stocks, allowing them to overweight or underweight particular equity securities while controlling incremental risk. These tools help the fund achieve its investment goals and provide downside protection.\n",
      "\n"
     ]
    }
   ],
   "source": [
    "for (query, response) in response_answer_pairs:\n",
    "    print(f\"{query}\\n{response}\\n\")"
   ]
  },
  {
   "cell_type": "markdown",
   "id": "cb632b45-b135-4561-9759-99fcc03e6959",
   "metadata": {},
   "source": [
    "That first result doesn't look right, but it's close? Could it be that we got the result that we wanted from that retrieval, but the results came back out of order? Let's try using a reranker to check which of our results is a closest match."
   ]
  }
 ],
 "metadata": {
  "kernelspec": {
   "display_name": "venv",
   "language": "python",
   "name": "python3"
  },
  "language_info": {
   "codemirror_mode": {
    "name": "ipython",
    "version": 3
   },
   "file_extension": ".py",
   "mimetype": "text/x-python",
   "name": "python",
   "nbconvert_exporter": "python",
   "pygments_lexer": "ipython3",
   "version": "3.11.7"
  }
 },
 "nbformat": 4,
 "nbformat_minor": 5
}
